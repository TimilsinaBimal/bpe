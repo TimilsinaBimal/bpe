{
 "cells": [
  {
   "cell_type": "code",
   "execution_count": 2,
   "metadata": {},
   "outputs": [],
   "source": [
    "text = \"\"\"Ｕｎｉｃｏｄｅ! 🅤🅝🅘🅒🅞🅓🅔‽ 🇺‌🇳‌🇮‌🇨‌🇴‌🇩‌🇪! 😄 The very name strikes fear and awe into the hearts of programmers worldwide. We all know we ought to “support Unicode” in our software (whatever that means—like using wchar_t for all the strings, right?). But Unicode can be abstruse, and diving into the thousand-page Unicode Standard plus its dozens of supplementary annexes, reports, and notes can be more than a little intimidating. I don’t blame programmers for still finding the whole thing mysterious, even 30 years after Unicode’s inception.\"\"\""
   ]
  },
  {
   "cell_type": "markdown",
   "metadata": {},
   "source": []
  },
  {
   "cell_type": "code",
   "execution_count": 3,
   "metadata": {},
   "outputs": [
    {
     "name": "stdout",
     "output_type": "stream",
     "text": [
      "Ｕｎｉｃｏｄｅ! 🅤🅝🅘🅒🅞🅓🅔‽ 🇺‌🇳‌🇮‌🇨‌🇴‌🇩‌🇪! 😄 The very name strikes fear and awe into the hearts of programmers worldwide. We all know we ought to “support Unicode” in our software (whatever that means—like using wchar_t for all the strings, right?). But Unicode can be abstruse, and diving into the thousand-page Unicode Standard plus its dozens of supplementary annexes, reports, and notes can be more than a little intimidating. I don’t blame programmers for still finding the whole thing mysterious, even 30 years after Unicode’s inception.\n",
      "533\n",
      "[239, 188, 181, 239, 189, 142, 239, 189, 137, 239, 189, 131, 239, 189, 143, 239, 189, 132, 239, 189, 133, 33, 32, 240, 159, 133, 164, 240, 159, 133, 157, 240, 159, 133, 152, 240, 159, 133, 146, 240, 159, 133, 158, 240, 159, 133, 147, 240, 159, 133, 148, 226, 128, 189, 32, 240, 159, 135, 186, 226, 128, 140, 240, 159, 135, 179, 226, 128, 140, 240, 159, 135, 174, 226, 128, 140, 240, 159, 135, 168, 226, 128, 140, 240, 159, 135, 180, 226, 128, 140, 240, 159, 135, 169, 226, 128, 140, 240, 159, 135, 170, 33, 32, 240, 159, 152, 132, 32, 84, 104, 101, 32, 118, 101, 114, 121, 32, 110, 97, 109, 101, 32, 115, 116, 114, 105, 107, 101, 115, 32, 102, 101, 97, 114, 32, 97, 110, 100, 32, 97, 119, 101, 32, 105, 110, 116, 111, 32, 116, 104, 101, 32, 104, 101, 97, 114, 116, 115, 32, 111, 102, 32, 112, 114, 111, 103, 114, 97, 109, 109, 101, 114, 115, 32, 119, 111, 114, 108, 100, 119, 105, 100, 101, 46, 32, 87, 101, 32, 97, 108, 108, 32, 107, 110, 111, 119, 32, 119, 101, 32, 111, 117, 103, 104, 116, 32, 116, 111, 32, 226, 128, 156, 115, 117, 112, 112, 111, 114, 116, 32, 85, 110, 105, 99, 111, 100, 101, 226, 128, 157, 32, 105, 110, 32, 111, 117, 114, 32, 115, 111, 102, 116, 119, 97, 114, 101, 32, 40, 119, 104, 97, 116, 101, 118, 101, 114, 32, 116, 104, 97, 116, 32, 109, 101, 97, 110, 115, 226, 128, 148, 108, 105, 107, 101, 32, 117, 115, 105, 110, 103, 32, 119, 99, 104, 97, 114, 95, 116, 32, 102, 111, 114, 32, 97, 108, 108, 32, 116, 104, 101, 32, 115, 116, 114, 105, 110, 103, 115, 44, 32, 114, 105, 103, 104, 116, 63, 41, 46, 32, 66, 117, 116, 32, 85, 110, 105, 99, 111, 100, 101, 32, 99, 97, 110, 32, 98, 101, 32, 97, 98, 115, 116, 114, 117, 115, 101, 44, 32, 97, 110, 100, 32, 100, 105, 118, 105, 110, 103, 32, 105, 110, 116, 111, 32, 116, 104, 101, 32, 116, 104, 111, 117, 115, 97, 110, 100, 45, 112, 97, 103, 101, 32, 85, 110, 105, 99, 111, 100, 101, 32, 83, 116, 97, 110, 100, 97, 114, 100, 32, 112, 108, 117, 115, 32, 105, 116, 115, 32, 100, 111, 122, 101, 110, 115, 32, 111, 102, 32, 115, 117, 112, 112, 108, 101, 109, 101, 110, 116, 97, 114, 121, 32, 97, 110, 110, 101, 120, 101, 115, 44, 32, 114, 101, 112, 111, 114, 116, 115, 44, 32, 97, 110, 100, 32, 110, 111, 116, 101, 115, 32, 99, 97, 110, 32, 98, 101, 32, 109, 111, 114, 101, 32, 116, 104, 97, 110, 32, 97, 32, 108, 105, 116, 116, 108, 101, 32, 105, 110, 116, 105, 109, 105, 100, 97, 116, 105, 110, 103, 46, 32, 73, 32, 100, 111, 110, 226, 128, 153, 116, 32, 98, 108, 97, 109, 101, 32, 112, 114, 111, 103, 114, 97, 109, 109, 101, 114, 115, 32, 102, 111, 114, 32, 115, 116, 105, 108, 108, 32, 102, 105, 110, 100, 105, 110, 103, 32, 116, 104, 101, 32, 119, 104, 111, 108, 101, 32, 116, 104, 105, 110, 103, 32, 109, 121, 115, 116, 101, 114, 105, 111, 117, 115, 44, 32, 101, 118, 101, 110, 32, 51, 48, 32, 121, 101, 97, 114, 115, 32, 97, 102, 116, 101, 114, 32, 85, 110, 105, 99, 111, 100, 101, 226, 128, 153, 115, 32, 105, 110, 99, 101, 112, 116, 105, 111, 110, 46]\n",
      "616\n"
     ]
    }
   ],
   "source": [
    "tokens = text.encode(\"utf-8\")\n",
    "tokens= list(map(int, tokens))\n",
    "\n",
    "print(text)\n",
    "print(len(text))\n",
    "\n",
    "\n",
    "print(tokens)\n",
    "print(len(tokens))"
   ]
  },
  {
   "cell_type": "code",
   "execution_count": 26,
   "metadata": {},
   "outputs": [],
   "source": [
    "def find_pairs(tokens):\n",
    "    pairs = {}\n",
    "    for idx, token in enumerate(tokens[:-1]): # better to use zip(tokens, tokens[1:])\n",
    "        pair = (token, tokens[idx+1])\n",
    "        pairs[pair] = pairs.get(pair, 0) + 1\n",
    "    return pairs"
   ]
  },
  {
   "cell_type": "code",
   "execution_count": 27,
   "metadata": {},
   "outputs": [],
   "source": [
    "def find_max_occuring_pair(tokens):\n",
    "    pairs = find_pairs(tokens)\n",
    "    max_pairs = max(pairs, key=pairs.get) \n",
    "    return max_pairs if pairs[max_pairs] > 1 else None # if no pairs occurs return None\n",
    "    # return pairs"
   ]
  },
  {
   "cell_type": "code",
   "execution_count": 5,
   "metadata": {},
   "outputs": [],
   "source": [
    "def replace_pair(tokens:list, pair:tuple, new_token:int) -> list:\n",
    "    tokens_copy = tokens.copy()\n",
    "    remove_index = []\n",
    "    for idx, t_pair in enumerate(zip(tokens_copy, tokens[1:])):\n",
    "        if pair == t_pair:\n",
    "            tokens_copy[idx] = new_token\n",
    "            remove_index.append(idx+1)\n",
    "\n",
    "    # remove index\n",
    "    for idx in sorted(remove_index, reverse=True):\n",
    "        del tokens_copy[idx]\n",
    "    return tokens_copy"
   ]
  },
  {
   "cell_type": "code",
   "execution_count": 6,
   "metadata": {},
   "outputs": [],
   "source": [
    "def bytepair_encoding(text:str, vocab_size:int):\n",
    "    tokens = text.encode(\"utf-8\")\n",
    "    tokens = list(map(int, tokens))\n",
    "    new_token = 256\n",
    "    merge_dict = {}\n",
    "    while new_token <= vocab_size:\n",
    "        token_pair = find_max_occuring_pair(tokens)\n",
    "        if not token_pair: # if no pair occurs\n",
    "            print(\"No more pairs to merge\")\n",
    "            break\n",
    "        merge_dict[token_pair] = new_token\n",
    "        print(f\"Token Pair: {token_pair}\")\n",
    "        tokens= replace_pair(tokens, token_pair, new_token)\n",
    "        new_token+= 1\n",
    "    return tokens, merge_dict"
   ]
  },
  {
   "cell_type": "code",
   "execution_count": 7,
   "metadata": {},
   "outputs": [
    {
     "name": "stdout",
     "output_type": "stream",
     "text": [
      "Token Pair: (101, 32)\n",
      "Token Pair: (240, 159)\n",
      "Token Pair: (226, 128)\n",
      "Token Pair: (105, 110)\n",
      "Token Pair: (115, 32)\n",
      "Token Pair: (97, 110)\n",
      "Token Pair: (116, 104)\n",
      "Token Pair: (257, 133)\n",
      "Token Pair: (257, 135)\n",
      "Token Pair: (97, 114)\n",
      "Token Pair: (239, 189)\n",
      "Token Pair: (258, 140)\n",
      "Token Pair: (267, 264)\n",
      "Token Pair: (101, 114)\n",
      "Token Pair: (111, 114)\n",
      "Token Pair: (116, 32)\n",
      "Token Pair: (259, 103)\n",
      "Token Pair: (115, 116)\n",
      "Token Pair: (261, 100)\n",
      "Token Pair: (32, 262)\n",
      "Token Pair: (44, 32)\n"
     ]
    }
   ],
   "source": [
    "encoded_tokens, merge_dict = bytepair_encoding(text, 276)"
   ]
  },
  {
   "cell_type": "code",
   "execution_count": 8,
   "metadata": {},
   "outputs": [
    {
     "data": {
      "text/plain": [
       "{(101, 32): 256,\n",
       " (240, 159): 257,\n",
       " (226, 128): 258,\n",
       " (105, 110): 259,\n",
       " (115, 32): 260,\n",
       " (97, 110): 261,\n",
       " (116, 104): 262,\n",
       " (257, 133): 263,\n",
       " (257, 135): 264,\n",
       " (97, 114): 265,\n",
       " (239, 189): 266,\n",
       " (258, 140): 267,\n",
       " (267, 264): 268,\n",
       " (101, 114): 269,\n",
       " (111, 114): 270,\n",
       " (116, 32): 271,\n",
       " (259, 103): 272,\n",
       " (115, 116): 273,\n",
       " (261, 100): 274,\n",
       " (32, 262): 275,\n",
       " (44, 32): 276}"
      ]
     },
     "execution_count": 8,
     "metadata": {},
     "output_type": "execute_result"
    }
   ],
   "source": [
    "merge_dict"
   ]
  },
  {
   "cell_type": "code",
   "execution_count": 41,
   "metadata": {},
   "outputs": [],
   "source": [
    "def encode(text:str):\n",
    "    tokens = text.encode(\"utf-8\")\n",
    "    tokens= list(map(int, tokens))\n",
    "    while True and len(tokens) > 1:\n",
    "        # get merge_pair\n",
    "        merge_pairs = find_pairs(tokens)\n",
    "        merge_pair = min(merge_pairs, key=lambda x: merge_dict.get(x, float(\"inf\")))\n",
    "        # if no merge pair found\n",
    "        if merge_dict.get(merge_pair) is None:\n",
    "            print(\"No more merge pairs\")\n",
    "            break\n",
    "        # get new token\n",
    "        new_token = merge_dict[merge_pair]\n",
    "        # replace pair\n",
    "        tokens = replace_pair(tokens, merge_pair, new_token)\n",
    "    return tokens"
   ]
  },
  {
   "cell_type": "code",
   "execution_count": 42,
   "metadata": {},
   "outputs": [
    {
     "name": "stdout",
     "output_type": "stream",
     "text": [
      "No more merge pairs\n"
     ]
    },
    {
     "data": {
      "text/plain": [
       "[104, 101, 108, 108, 111, 32, 119, 270, 108, 100]"
      ]
     },
     "execution_count": 42,
     "metadata": {},
     "output_type": "execute_result"
    }
   ],
   "source": [
    "encode(\"hello world\")"
   ]
  },
  {
   "cell_type": "code",
   "execution_count": 11,
   "metadata": {},
   "outputs": [],
   "source": [
    "vocab = {idx: bytes([idx]) for idx in range(256)}"
   ]
  },
  {
   "cell_type": "code",
   "execution_count": 12,
   "metadata": {},
   "outputs": [],
   "source": [
    "for (p0,p1), idx in merge_dict.items():\n",
    "    vocab[idx] = vocab[p0] + vocab[p1]"
   ]
  },
  {
   "cell_type": "code",
   "execution_count": 20,
   "metadata": {},
   "outputs": [],
   "source": [
    "def decode(tokens):\n",
    "    tokens = b\"\".join(vocab.get(token) for token in tokens)\n",
    "    text = tokens.decode(\"utf-8\", errors=\"replace\")\n",
    "    return text"
   ]
  },
  {
   "cell_type": "code",
   "execution_count": 43,
   "metadata": {},
   "outputs": [
    {
     "data": {
      "text/plain": [
       "[]"
      ]
     },
     "execution_count": 43,
     "metadata": {},
     "output_type": "execute_result"
    }
   ],
   "source": [
    "encode(\"\") "
   ]
  },
  {
   "cell_type": "code",
   "execution_count": 39,
   "metadata": {},
   "outputs": [
    {
     "data": {
      "text/plain": [
       "'HELLO'"
      ]
     },
     "execution_count": 39,
     "metadata": {},
     "output_type": "execute_result"
    }
   ],
   "source": [
    "decode([72, 69, 76, 76, 79])"
   ]
  },
  {
   "cell_type": "code",
   "execution_count": null,
   "metadata": {},
   "outputs": [],
   "source": []
  }
 ],
 "metadata": {
  "kernelspec": {
   "display_name": "base",
   "language": "python",
   "name": "python3"
  },
  "language_info": {
   "codemirror_mode": {
    "name": "ipython",
    "version": 3
   },
   "file_extension": ".py",
   "mimetype": "text/x-python",
   "name": "python",
   "nbconvert_exporter": "python",
   "pygments_lexer": "ipython3",
   "version": "3.10.14"
  }
 },
 "nbformat": 4,
 "nbformat_minor": 2
}
